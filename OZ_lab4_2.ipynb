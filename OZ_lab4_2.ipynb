{
 "cells": [
  {
   "cell_type": "code",
   "execution_count": 1,
   "id": "f6968471-3d13-40dc-ac46-9610c0cfbcc6",
   "metadata": {},
   "outputs": [],
   "source": [
    "#lab4"
   ]
  },
  {
   "cell_type": "code",
   "execution_count": 2,
   "id": "9080e071-0d0f-480b-96d5-fab1dfd63c7c",
   "metadata": {},
   "outputs": [
    {
     "name": "stderr",
     "output_type": "stream",
     "text": [
      "Device set to use cuda:0\n"
     ]
    }
   ],
   "source": [
    "import numpy\n",
    "from transformers import pipeline, AutoTokenizer, AutoModelForQuestionAnswering\n",
    "\n",
    "tokenizer = AutoTokenizer.from_pretrained(\"robinhad/ukrainian-qa\")\n",
    "model = AutoModelForQuestionAnswering.from_pretrained(\"robinhad/ukrainian-qa\")\n",
    "    \n",
    "qa_model = pipeline(\"question-answering\", model=model.to(\"cuda\"), tokenizer=tokenizer)"
   ]
  },
  {
   "cell_type": "code",
   "execution_count": 3,
   "id": "2f3fcd3e-4da8-48da-8269-9b9d806c05c9",
   "metadata": {},
   "outputs": [
    {
     "data": {
      "text/plain": [
       "{'score': 0.635536253452301,\n",
       " 'start': 7,\n",
       " 'end': 26,\n",
       " 'answer': ' у мене все чудово,'}"
      ]
     },
     "execution_count": 3,
     "metadata": {},
     "output_type": "execute_result"
    }
   ],
   "source": [
    "question = \"Вітаю, як пройшов день?\"\n",
    "context = \"Добрий день, день пройшов добре, виконав лабораторну з ІАД.\"\n",
    "qa_model(question = question, context = context)"
   ]
  },
  {
   "cell_type": "code",
   "execution_count": 36,
   "id": "a91b4d97-a021-4488-a9dc-2f70151ac41f",
   "metadata": {},
   "outputs": [
    {
     "data": {
      "text/plain": [
       "{'score': 0.7154393196105957,\n",
       " 'start': 87,\n",
       " 'end': 102,\n",
       " 'answer': ' нідерландським'}"
      ]
     },
     "execution_count": 36,
     "metadata": {},
     "output_type": "execute_result"
    }
   ],
   "source": [
    "context = \"Макс Ферстаппен виграв свій перший чемпіонат світу Формули-1 у 2021 році, ставши першим нідерландським пілотом, який досяг цього. У 2016 році Ферстаппен став наймолодшим переможцем гонки Формули-1, вигравши Гран-прі Іспанії у віці 18 років і 228 днів. Макс є сином колишнього пілота Формули-1 Йоса Ферстаппена, що зробило його частиною родини з автоспортивною спадщиною.\"\n",
    "question = \"громадянином якої країни є Макс Ферстаппен?\"\n",
    "qa_model(question = question, context = context)"
   ]
  },
  {
   "cell_type": "code",
   "execution_count": 40,
   "id": "fe559c7e-3a50-4ee4-b38f-75b29bd8da15",
   "metadata": {},
   "outputs": [
    {
     "data": {
      "text/plain": [
       "{'score': 0.12207421660423279,\n",
       " 'start': 206,\n",
       " 'end': 223,\n",
       " 'answer': ' Гран-прі Іспанії'}"
      ]
     },
     "execution_count": 40,
     "metadata": {},
     "output_type": "execute_result"
    }
   ],
   "source": [
    "question = \"Перша перемога Макса?\"\n",
    "qa_model(question = question, context = context)"
   ]
  },
  {
   "cell_type": "code",
   "execution_count": 42,
   "id": "5805383b-d0d5-4a8b-ac9b-3d3b2163adb9",
   "metadata": {},
   "outputs": [
    {
     "data": {
      "text/plain": [
       "{'score': 0.9983298182487488,\n",
       " 'start': 0,\n",
       " 'end': 15,\n",
       " 'answer': 'Макс Ферстаппен'}"
      ]
     },
     "execution_count": 42,
     "metadata": {},
     "output_type": "execute_result"
    }
   ],
   "source": [
    "question = \"Хто наймолодший переможець гонки формули 1?\"\n",
    "qa_model(question = question, context = context)"
   ]
  },
  {
   "cell_type": "code",
   "execution_count": 46,
   "id": "cd106b4d-7ce7-41dc-b492-4300b6553736",
   "metadata": {},
   "outputs": [
    {
     "data": {
      "text/plain": [
       "{'score': 0.24062414467334747,\n",
       " 'start': 275,\n",
       " 'end': 292,\n",
       " 'answer': ' пілота Формули-1'}"
      ]
     },
     "execution_count": 46,
     "metadata": {},
     "output_type": "execute_result"
    }
   ],
   "source": [
    "question = \"Хто такий Йос Ферстеппен?\"\n",
    "qa_model(question = question, context = context)"
   ]
  },
  {
   "cell_type": "code",
   "execution_count": null,
   "id": "62721eb5-5521-4797-a2f5-5f5bdcba2f96",
   "metadata": {},
   "outputs": [],
   "source": []
  },
  {
   "cell_type": "code",
   "execution_count": null,
   "id": "0aea5df2-e770-4e3d-8a7c-1fb57e85308d",
   "metadata": {},
   "outputs": [],
   "source": []
  }
 ],
 "metadata": {
  "kernelspec": {
   "display_name": "Python 3 (ipykernel)",
   "language": "python",
   "name": "python3"
  },
  "language_info": {
   "codemirror_mode": {
    "name": "ipython",
    "version": 3
   },
   "file_extension": ".py",
   "mimetype": "text/x-python",
   "name": "python",
   "nbconvert_exporter": "python",
   "pygments_lexer": "ipython3",
   "version": "3.11.4"
  }
 },
 "nbformat": 4,
 "nbformat_minor": 5
}
